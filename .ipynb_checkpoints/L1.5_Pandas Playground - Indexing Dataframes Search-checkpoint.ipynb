{
 "cells": [
  {
   "cell_type": "code",
   "execution_count": null,
   "metadata": {
    "collapsed": true
   },
   "outputs": [],
   "source": [
    "import pandas as pd\n",
    "\n",
    "'''\n",
    "You can think of a DataFrame as a group of Series that share an index.\n",
    "This makes it easy to select specific columns that you want from the \n",
    "DataFrame. \n",
    "\n",
    "Also a couple pointers:\n",
    "1) Selecting a single column from the DataFrame will return a Series\n",
    "2) Selecting multiple columns from the DataFrame will return a DataFrame\n",
    "\n",
    "*This playground is inspired by Greg Reda's post on Intro to Pandas Data Structures:\n",
    "http://www.gregreda.com/2013/10/26/intro-to-pandas-data-structures/\n",
    "'''\n",
    "# Change False to True to see Series indexing in action\n",
    "if False:\n",
    "    data = {'year': [2010, 2011, 2012, 2011, 2012, 2010, 2011, 2012],\n",
    "            'team': ['Bears', 'Bears', 'Bears', 'Packers', 'Packers', 'Lions',\n",
    "                     'Lions', 'Lions'],\n",
    "            'wins': [11, 8, 10, 15, 11, 6, 10, 4],\n",
    "            'losses': [5, 8, 6, 1, 5, 10, 6, 12]}\n",
    "    football = pd.DataFrame(data)\n",
    "    print football['year']\n",
    "    print ''\n",
    "    print football.year  # shorthand for football['year']\n",
    "    print ''\n",
    "    print football[['year', 'wins', 'losses']]\n",
    "\n",
    "'''\n",
    "Row selection can be done through multiple ways.\n",
    "\n",
    "Some of the basic and common methods are:\n",
    "   1) Slicing\n",
    "   2) An individual index (through the functions iloc or loc)\n",
    "   3) Boolean indexing\n",
    "\n",
    "You can also combine multiple selection requirements through boolean\n",
    "operators like & (and) or | (or)\n",
    "'''\n",
    "# Change False to True to see boolean indexing in action\n",
    "if False:\n",
    "    data = {'year': [2010, 2011, 2012, 2011, 2012, 2010, 2011, 2012],\n",
    "            'team': ['Bears', 'Bears', 'Bears', 'Packers', 'Packers', 'Lions',\n",
    "                     'Lions', 'Lions'],\n",
    "            'wins': [11, 8, 10, 15, 11, 6, 10, 4],\n",
    "            'losses': [5, 8, 6, 1, 5, 10, 6, 12]}\n",
    "    football = pd.DataFrame(data)\n",
    "    print football.iloc[[0]]\n",
    "    print \"\"\n",
    "    print football.loc[[0]]\n",
    "    print \"\"\n",
    "    print football[3:5]\n",
    "    print \"\"\n",
    "    print football[football.wins > 10]\n",
    "    print \"\"\n",
    "    print football[(football.wins > 10) & (football.team == \"Packers\")]\n"
   ]
  }
 ],
 "metadata": {
  "kernelspec": {
   "display_name": "Python [conda root]",
   "language": "python",
   "name": "conda-root-py"
  },
  "language_info": {
   "codemirror_mode": {
    "name": "ipython",
    "version": 3
   },
   "file_extension": ".py",
   "mimetype": "text/x-python",
   "name": "python",
   "nbconvert_exporter": "python",
   "pygments_lexer": "ipython3",
   "version": "3.5.2"
  }
 },
 "nbformat": 4,
 "nbformat_minor": 1
}
