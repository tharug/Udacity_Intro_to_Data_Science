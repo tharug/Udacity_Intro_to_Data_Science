{
 "cells": [
  {
   "cell_type": "code",
   "execution_count": 1,
   "metadata": {
    "collapsed": false
   },
   "outputs": [
    {
     "ename": "ImportError",
     "evalue": "No module named 'mpl_toolkits.basemap'",
     "output_type": "error",
     "traceback": [
      "\u001b[0;31m---------------------------------------------------------------------------\u001b[0m",
      "\u001b[0;31mImportError\u001b[0m                               Traceback (most recent call last)",
      "\u001b[0;32m<ipython-input-1-5e6824321d57>\u001b[0m in \u001b[0;36m<module>\u001b[0;34m()\u001b[0m\n\u001b[0;32m----> 1\u001b[0;31m \u001b[1;32mfrom\u001b[0m \u001b[0mmpl_toolkits\u001b[0m\u001b[1;33m.\u001b[0m\u001b[0mbasemap\u001b[0m \u001b[1;32mimport\u001b[0m \u001b[0mBasemap\u001b[0m\u001b[1;33m\u001b[0m\u001b[0m\n\u001b[0m",
      "\u001b[0;31mImportError\u001b[0m: No module named 'mpl_toolkits.basemap'"
     ]
    }
   ],
   "source": [
    "import numpy as np\n",
    "import pandas as pd\n",
    "\n",
    "'''\n",
    "The following code is to help you play with the concept of Dataframe in Pandas.\n",
    "\n",
    "You can think of a Dataframe as something with rows and columns. It is\n",
    "similar to a spreadsheet, a database table, or R's data.frame object.\n",
    "\n",
    "*This playground is inspired by Greg Reda's post on Intro to Pandas Data Structures:\n",
    "http://www.gregreda.com/2013/10/26/intro-to-pandas-data-structures/\n",
    "'''\n",
    "\n",
    "'''\n",
    "To create a dataframe, you can pass a dictionary of lists to the Dataframe\n",
    "constructor:\n",
    "1) The key of the dictionary will be the column name\n",
    "2) The associating list will be the values within that column.\n",
    "'''\n",
    "# Change False to True to see Dataframes in action\n",
    "if False:\n",
    "    data = {'year': [2010, 2011, 2012, 2011, 2012, 2010, 2011, 2012],\n",
    "            'team': ['Bears', 'Bears', 'Bears', 'Packers', 'Packers', 'Lions',\n",
    "                     'Lions', 'Lions'],\n",
    "            'wins': [11, 8, 10, 15, 11, 6, 10, 4],\n",
    "            'losses': [5, 8, 6, 1, 5, 10, 6, 12]}\n",
    "    football = pd.DataFrame(data)\n",
    "    print football\n",
    "\n",
    "'''\n",
    "Pandas also has various functions that will help you understand some basic\n",
    "information about your data frame. Some of these functions are:\n",
    "1) dtypes: to get the datatype for each column\n",
    "2) describe: useful for seeing basic statistics of the dataframe's numerical\n",
    "   columns\n",
    "3) head: displays the first five rows of the dataset\n",
    "4) tail: displays the last five rows of the dataset\n",
    "'''\n",
    "# Change False to True to see these functions in action\n",
    "if False:\n",
    "    data = {'year': [2010, 2011, 2012, 2011, 2012, 2010, 2011, 2012],\n",
    "            'team': ['Bears', 'Bears', 'Bears', 'Packers', 'Packers', 'Lions',\n",
    "                     'Lions', 'Lions'],\n",
    "            'wins': [11, 8, 10, 15, 11, 6, 10, 4],\n",
    "            'losses': [5, 8, 6, 1, 5, 10, 6, 12]}\n",
    "    football = pd.DataFrame(data)\n",
    "    print football.dtypes\n",
    "    print \"\"\n",
    "    print football.describe()\n",
    "    print \"\"\n",
    "    print football.head()\n",
    "    print \"\"\n",
    "    print football.tail()\n"
   ]
  },
  {
   "cell_type": "code",
   "execution_count": null,
   "metadata": {
    "collapsed": true
   },
   "outputs": [],
   "source": []
  }
 ],
 "metadata": {
  "kernelspec": {
   "display_name": "Python [conda root]",
   "language": "python",
   "name": "conda-root-py"
  },
  "language_info": {
   "codemirror_mode": {
    "name": "ipython",
    "version": 3
   },
   "file_extension": ".py",
   "mimetype": "text/x-python",
   "name": "python",
   "nbconvert_exporter": "python",
   "pygments_lexer": "ipython3",
   "version": "3.5.2"
  }
 },
 "nbformat": 4,
 "nbformat_minor": 1
}
